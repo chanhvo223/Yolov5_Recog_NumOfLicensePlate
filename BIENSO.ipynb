{
  "nbformat": 4,
  "nbformat_minor": 0,
  "metadata": {
    "colab": {
      "provenance": [],
      "gpuType": "T4",
      "authorship_tag": "ABX9TyM9dULFP5fLfhPgLMgbs/cb",
      "include_colab_link": true
    },
    "kernelspec": {
      "name": "python3",
      "display_name": "Python 3"
    },
    "language_info": {
      "name": "python"
    },
    "accelerator": "GPU"
  },
  "cells": [
    {
      "cell_type": "markdown",
      "metadata": {
        "id": "view-in-github",
        "colab_type": "text"
      },
      "source": [
        "<a href=\"https://colab.research.google.com/github/chanhvo223/Yolov5_Recog_NumOfLicensePlate/blob/main/BIENSO.ipynb\" target=\"_parent\"><img src=\"https://colab.research.google.com/assets/colab-badge.svg\" alt=\"Open In Colab\"/></a>"
      ]
    },
    {
      "cell_type": "markdown",
      "source": [
        "Tham khảo:\n",
        "- Cách làm: https://www.youtube.com/watch?v=-3i9AEOjmrk&ab_channel=Thi%E1%BB%87nD%C6%B0%C6%A1ng\n",
        "- Giải thích: https://www.youtube.com/watch?v=eSS0EnCX1A0&ab_channel=Lato%27channel\n",
        "- Colab custom: https://colab.research.google.com/github/roboflow-ai/yolov5-custom-training-tutorial/blob/main/yolov5-custom-training.ipynb"
      ],
      "metadata": {
        "id": "xCz5GLcVK7gJ"
      }
    },
    {
      "cell_type": "markdown",
      "source": [
        "**1. Liên Kết với GG Driver**"
      ],
      "metadata": {
        "id": "B6IWqd0k0fOq"
      }
    },
    {
      "cell_type": "code",
      "execution_count": null,
      "metadata": {
        "id": "4uR_rml50ac2"
      },
      "outputs": [],
      "source": [
        "from google.colab import drive\n",
        "import os\n",
        "drive.mount('/content/drive/')\n",
        "os.chdir('drive/MyDrive/')"
      ]
    },
    {
      "cell_type": "code",
      "source": [
        "os.getcwd()"
      ],
      "metadata": {
        "colab": {
          "base_uri": "https://localhost:8080/",
          "height": 36
        },
        "id": "TZMfL4fh9PCB",
        "outputId": "71ec1e6e-823a-4252-df75-f67123e741a6"
      },
      "execution_count": null,
      "outputs": [
        {
          "output_type": "execute_result",
          "data": {
            "text/plain": [
              "'/content/drive/MyDrive/yolov5'"
            ],
            "application/vnd.google.colaboratory.intrinsic+json": {
              "type": "string"
            }
          },
          "metadata": {},
          "execution_count": 7
        }
      ]
    },
    {
      "cell_type": "markdown",
      "source": [
        "**2 Setup Yolov5 -- Link: https://colab.research.google.com/github/ultralytics/yolov5/blob/master/tutorial.ipynb#scrollTo=wbvMlHd_QwMG**"
      ],
      "metadata": {
        "id": "QemTfTmM04Wo"
      }
    },
    {
      "cell_type": "code",
      "source": [
        "# !git clone https://github.com/ultralytics/yolov5  # clone\n",
        "%cd yolov5\n",
        "# %pip install -qr requirements.txt comet_ml  # install\n",
        "\n",
        "import torch\n",
        "import utils\n",
        "display = utils.notebook_init()  # checks"
      ],
      "metadata": {
        "id": "tJvJexfg05Iv"
      },
      "execution_count": null,
      "outputs": []
    },
    {
      "cell_type": "markdown",
      "source": [
        "**3. Cài zip và unrar trên  driver**"
      ],
      "metadata": {
        "id": "mT950HY909KO"
      }
    },
    {
      "cell_type": "code",
      "source": [
        "!pip install unrar"
      ],
      "metadata": {
        "id": "lJNhVQFu0-Ak"
      },
      "execution_count": null,
      "outputs": []
    },
    {
      "cell_type": "code",
      "source": [
        "!unrar x /content/drive/MyDrive/yolov5/dataset.rar"
      ],
      "metadata": {
        "id": "nfnT0ZXN1CCJ"
      },
      "execution_count": null,
      "outputs": []
    },
    {
      "cell_type": "markdown",
      "source": [
        "**4. Thêm data đã unrar/unzip vào file yolov5**\n",
        "\n",
        "*Cách 1: Sử dụng mô hình chuẩn theo file coco128.yaml *\n",
        "- git: https://github.com/ultralytics/yolov5/blob/master/data/coco128.yaml\n",
        "- path: ../datasets/coco128  \n",
        "- train: images/train2017\n",
        "- val: images/train2017  \n",
        "--> mô hình coco128 --> có 2 file images và labels --> trong đó có file train2017\n",
        "*Cách 2: Vào mục data file cocp128.yaml thay đổi đường dẫn như dưới*\n",
        "- path: ../content/drive/MyDrive/yolov5/dataset\n",
        "- train: ../content/drive/MyDrive/yolov5/dataset\n",
        "- val: ../content/drive/MyDrive/yolov5/dataset\n",
        "- class\n",
        "\n",
        "Link tham khảo: https://www.youtube.com/watch?v=-3i9AEOjmrk&ab_channel=Thi%E1%BB%87nD%C6%B0%C6%A1ng\n",
        "\n",
        "*Cách 3: Bỏ vào roboflow"
      ],
      "metadata": {
        "id": "X7zLIhHE1JC-"
      }
    },
    {
      "cell_type": "markdown",
      "source": [
        "-----------------------------------------------------------------------------\n",
        "Lấy data bằng roboflow"
      ],
      "metadata": {
        "id": "W0TmIvMsKRWE"
      }
    },
    {
      "cell_type": "code",
      "source": [
        "!pip install roboflow\n",
        "from roboflow import Roboflow\n",
        "rf = Roboflow(api_key=\"Cny6v5mbH0HFzQik9WEL\")\n",
        "project = rf.workspace(\"vsk-9bee1\").project(\"platevehiclevn\")\n",
        "dataset = project.version(1).download(\"yolov5\")\n"
      ],
      "metadata": {
        "id": "mJHH55pqKNEH"
      },
      "execution_count": null,
      "outputs": []
    },
    {
      "cell_type": "markdown",
      "source": [
        "**5. Train YoLov5 model**\n",
        "\n",
        "- epochs là số lần train --> càng nhiều thì càng chính xác\n",
        "- Saukhi train xong thì có file runs/train/exp/weights --> best.pt & last.pt"
      ],
      "metadata": {
        "id": "_cQmRhhb1LZS"
      }
    },
    {
      "cell_type": "code",
      "source": [
        "!python train.py --img 640 --batch 16 --epochs 5 --data coco128.yaml --weights yolov5s.pt --cache"
      ],
      "metadata": {
        "id": "-6QMYuQa1MZt"
      },
      "execution_count": null,
      "outputs": []
    },
    {
      "cell_type": "markdown",
      "source": [
        "**6. Train tiếp bằng file best.pt**\n",
        "- Thay file yolo5x.pt bằng file best.pt bằng link đường dẫn vào file best.pt"
      ],
      "metadata": {
        "id": "uuiPkC1N-ltl"
      }
    },
    {
      "cell_type": "code",
      "source": [
        "!python train.py --img 640 --batch 16 --epochs 50 --data coco128.yaml --weights /content/yolov5/runs/train/exp/weights/best.pt --cache"
      ],
      "metadata": {
        "id": "Cao4JQ2G-iyF"
      },
      "execution_count": null,
      "outputs": []
    },
    {
      "cell_type": "markdown",
      "source": [
        "**7. Detect data**\n",
        "\n",
        "Cách 1: Chạy trên máy tính local\n",
        "- Thay đổi model đã train trong file detect.py --> line 244 --> sửa thành best.pt\n",
        "- Tải file model best.pt và file detect.py về máy\n",
        "- Tải git hub yolov5 về máy\n",
        "- Chuyển 2 file trên vào dự án github đó\n",
        "- Mở file detect.py và chạy:\n",
        "  !python detect.py --weights best.pt --img 640 --conf 0.1 --source (pathfolder, img, 0: webcam)\n",
        "\n",
        "Cách 2: Chạy trên gg colab\n",
        "\n",
        "  !python detect.py --weights /content/drive/MyDrive/yolov5/runs/train/exp/weights/best.pt --img 640 --conf 0.1 --source (pathfolder, img, 0: webcam)\n"
      ],
      "metadata": {
        "id": "ESMsEoS4O30f"
      }
    },
    {
      "cell_type": "code",
      "source": [
        "!python detect.py --weights /content/drive/MyDrive/yolov5/runs/train/exp/weights/best.pt --img 640 --conf 0.4 --source /content/drive/MyDrive/yolov5/dataset/test/xe7.jpg"
      ],
      "metadata": {
        "id": "nrdFZouBfb_M",
        "colab": {
          "base_uri": "https://localhost:8080/"
        },
        "outputId": "0c10cfe6-c5a0-4b7d-878a-a044497a151c"
      },
      "execution_count": null,
      "outputs": [
        {
          "output_type": "stream",
          "name": "stdout",
          "text": [
            "python3: can't open file '/content/drive/MyDrive/detect.py': [Errno 2] No such file or directory\n"
          ]
        }
      ]
    },
    {
      "cell_type": "markdown",
      "source": [
        "**8. Crop biển số**\n",
        "- Thay đổi trong file detect.py --> Line 69: save_crop=True\n",
        "- Đặt ảnh vào file data/images"
      ],
      "metadata": {
        "id": "W5FjeGjZI_Qo"
      }
    },
    {
      "cell_type": "code",
      "source": [
        "!python /content/drive/MyDrive/yolov5/detect.py --save-crop"
      ],
      "metadata": {
        "colab": {
          "base_uri": "https://localhost:8080/"
        },
        "id": "dOIqY35fJ-pV",
        "outputId": "b16b050a-f541-49f2-9c52-3684efd6cc64"
      },
      "execution_count": null,
      "outputs": [
        {
          "output_type": "stream",
          "name": "stdout",
          "text": [
            "Traceback (most recent call last):\n",
            "  File \"/content/drive/MyDrive/yolov5/detect.py\", line 46, in <module>\n",
            "    from ultralytics.utils.plotting import Annotator, colors, save_one_box\n",
            "ModuleNotFoundError: No module named 'ultralytics'\n"
          ]
        }
      ]
    }
  ]
}